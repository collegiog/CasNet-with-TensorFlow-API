{
  "cells": [
    {
      "cell_type": "code",
      "execution_count": null,
      "id": "1583d130",
      "metadata": {
        "execution": {
          "iopub.execute_input": "2023-05-10T03:26:36.989665Z",
          "iopub.status.busy": "2023-05-10T03:26:36.988818Z",
          "iopub.status.idle": "2023-05-10T03:26:44.930068Z",
          "shell.execute_reply": "2023-05-10T03:26:44.929061Z"
        },
        "id": "1583d130",
        "papermill": {
          "duration": 7.951334,
          "end_time": "2023-05-10T03:26:44.932189",
          "exception": false,
          "start_time": "2023-05-10T03:26:36.980855",
          "status": "completed"
        },
        "tags": []
      },
      "outputs": [],
      "source": [
        "import warnings, os\n",
        "warnings.simplefilter('ignore')\n",
        "os.environ['TF_CPP_MIN_LOG_LEVEL'] = '3'\n",
        "os.environ[\"SM_FRAMEWORK\"] = \"tf.keras\"\n",
        "\n",
        "import tensorflow as tf\n",
        "from tensorflow import keras "
      ]
    },
    {
      "cell_type": "code",
      "execution_count": null,
      "id": "03a7886f",
      "metadata": {
        "execution": {
          "iopub.execute_input": "2023-05-10T03:26:44.947420Z",
          "iopub.status.busy": "2023-05-10T03:26:44.946883Z",
          "iopub.status.idle": "2023-05-10T03:26:44.953415Z",
          "shell.execute_reply": "2023-05-10T03:26:44.952569Z"
        },
        "id": "03a7886f",
        "papermill": {
          "duration": 0.01635,
          "end_time": "2023-05-10T03:26:44.955435",
          "exception": false,
          "start_time": "2023-05-10T03:26:44.939085",
          "status": "completed"
        },
        "tags": []
      },
      "outputs": [],
      "source": [
        "tf.__version__"
      ]
    },
    {
      "cell_type": "code",
      "execution_count": null,
      "id": "b16db285",
      "metadata": {
        "execution": {
          "iopub.execute_input": "2023-05-10T03:26:47.466107Z",
          "iopub.status.busy": "2023-05-10T03:26:47.465852Z",
          "iopub.status.idle": "2023-05-10T03:26:47.471698Z",
          "shell.execute_reply": "2023-05-10T03:26:47.470839Z"
        },
        "id": "b16db285",
        "papermill": {
          "duration": 0.015978,
          "end_time": "2023-05-10T03:26:47.473740",
          "exception": false,
          "start_time": "2023-05-10T03:26:47.457762",
          "status": "completed"
        },
        "tags": []
      },
      "outputs": [],
      "source": [
        "# hyperparameters\n",
        "\n",
        "img_size=512\n",
        "img_channel=3\n",
        "\n",
        "epoch=50\n",
        "#batch_size = 1 * strategy.num_replicas_in_sync\n",
        "\n",
        "kernel_initializer = keras.initializers.GlorotNormal(seed=4)\n",
        "activation = 'relu'"
      ]
    },
    {
      "cell_type": "code",
      "execution_count": null,
      "id": "947629b7",
      "metadata": {
        "execution": {
          "iopub.execute_input": "2023-05-10T03:26:47.503497Z",
          "iopub.status.busy": "2023-05-10T03:26:47.503243Z",
          "iopub.status.idle": "2023-05-10T03:26:47.509154Z",
          "shell.execute_reply": "2023-05-10T03:26:47.508281Z"
        },
        "id": "947629b7",
        "papermill": {
          "duration": 0.015992,
          "end_time": "2023-05-10T03:26:47.511207",
          "exception": false,
          "start_time": "2023-05-10T03:26:47.495215",
          "status": "completed"
        },
        "tags": []
      },
      "outputs": [],
      "source": [
        "def convBlock(filters, kernel, kernel_initializer, activation, name=None):\n",
        "    \n",
        "    if name is None:\n",
        "        name = \"convBlock\" + str(tf.keras.backend.get_uid(\"convBlock\"))\n",
        "    \n",
        "    def layer(input):\n",
        "        c1 = tf.keras.layers.Conv2D(filters=filters, kernel_size=kernel, padding='same',\n",
        "            kernel_initializer=kernel_initializer, name=name+'_conv')(input)\n",
        "        c1 = tf.keras.layers.BatchNormalization(name=name+'_batch')(c1)\n",
        "        c1 = tf.keras.layers.Activation(activation, name=name+'_active')(c1)\n",
        "        return c1\n",
        "    \n",
        "    return layer"
      ]
    },
    {
      "cell_type": "code",
      "execution_count": null,
      "id": "2b588633",
      "metadata": {
        "execution": {
          "iopub.execute_input": "2023-05-10T03:26:47.527405Z",
          "iopub.status.busy": "2023-05-10T03:26:47.526580Z",
          "iopub.status.idle": "2023-05-10T03:26:47.532916Z",
          "shell.execute_reply": "2023-05-10T03:26:47.532049Z"
        },
        "id": "2b588633",
        "papermill": {
          "duration": 0.016312,
          "end_time": "2023-05-10T03:26:47.534802",
          "exception": false,
          "start_time": "2023-05-10T03:26:47.518490",
          "status": "completed"
        },
        "tags": []
      },
      "outputs": [],
      "source": [
        "def dconvBlock(filters, kernel, kernel_initializer, activation, name=None):\n",
        "    \n",
        "    if name is None:\n",
        "        name = \"dconvBlock\" + str(tf.keras.backend.get_uid(\"dconvBlock\"))\n",
        "    \n",
        "    def layer(input):\n",
        "        d1 = tf.keras.layers.Conv2DTranspose(filters=filters, kernel_size=kernel, padding='same',\n",
        "            kernel_initializer=kernel_initializer, name=name+'_conv')(input)\n",
        "        d1 = tf.keras.layers.BatchNormalization(name=name+'_batch')(d1)\n",
        "        d1 = tf.keras.layers.Activation(activation, name=name+'_active')(d1)\n",
        "        return d1\n",
        "    \n",
        "    return layer"
      ]
    },
    {
      "cell_type": "code",
      "source": [
        "def model_CASNET(activation, kernel_initializer, kernel_size):\n",
        "\n",
        "    # Input\n",
        "    input = tf.keras.Input(shape=(img_size, img_size, img_channel), name='images_input')\n",
        "    x = input\n",
        "\n",
        "    # Network 1 - Road Detection\n",
        "    ## Encoder\n",
        "\n",
        "    nfilters = [64, 128, 256, 512]\n",
        "    for fmap in nfilters:\n",
        "        x = convBlock(fmap, kernel_size, kernel_initializer, activation)(x)\n",
        "        x = convBlock(fmap, kernel_size, kernel_initializer, activation)(x)\n",
        "        x = tf.keras.layers.MaxPool2D(pool_size=(2,2), strides=None, padding='same')(x)\n",
        "\n",
        "    ## Decoder\n",
        "    for fmap in reversed(nfilters):\n",
        "        x = tf.keras.layers.UpSampling2D(size=(2,2), interpolation='bilinear')(x)\n",
        "        x = dconvBlock(fmap, kernel_size, kernel_initializer, activation)(x)\n",
        "        x = dconvBlock(fmap, kernel_size, kernel_initializer, activation)(x)\n",
        "    \n",
        "    x = tf.keras.layers.Conv2DTranspose(filters=1, kernel_size=(1,1),\n",
        "                                        kernel_initializer=kernel_initializer,activation=None,)(x)\n",
        "\n",
        "    mask_op = tf.keras.layers.Activation('sigmoid', name='road', dtype=tf.float32)(x)\n",
        "\n",
        "    # Network 2\n",
        "    # ENCODER\n",
        "    for fmap in nfilters[:-1]:\n",
        "        x = convBlock(fmap, kernel_size, kernel_initializer, activation)(x)\n",
        "        x = convBlock(fmap, kernel_size, kernel_initializer, activation)(x)\n",
        "        x = tf.keras.layers.MaxPool2D(pool_size=(2,2), strides=None, padding='same')(x)\n",
        "\n",
        "    # DECODER   \n",
        "    for fmap in reversed(nfilters[:-1]):\n",
        "        x = tf.keras.layers.UpSampling2D(size=(2,2), interpolation='bilinear')(x)\n",
        "        x = dconvBlock(fmap, kernel_size, kernel_initializer, activation)(x)\n",
        "        x = dconvBlock(fmap, kernel_size, kernel_initializer, activation)(x)\n",
        "        \n",
        "    x = tf.keras.layers.Conv2DTranspose(filters=1, kernel_size=(1,1),\n",
        "                                                   kernel_initializer=kernel_initializer,activation=None, )(x)\n",
        "\n",
        "    centerline_op = tf.keras.layers.Activation('sigmoid', name='centerline', dtype=tf.float32)(x)\n",
        "\n",
        "    model = tf.keras.Model(\n",
        "        inputs={'images': input},\n",
        "        outputs={'mask': mask_op, 'centerline': centerline_op},\n",
        "        name='CasNet')\n",
        "    \n",
        "    return model"
      ],
      "metadata": {
        "id": "LHAGHD9Coz9A"
      },
      "id": "LHAGHD9Coz9A",
      "execution_count": null,
      "outputs": []
    },
    {
      "cell_type": "code",
      "source": [
        "model = model_CASNET(activation=activation, kernel_initializer=kernel_initializer, kernel_size=3)\n",
        "model_CASNET.summary()"
      ],
      "metadata": {
        "id": "0CmUWIGgobIE"
      },
      "id": "0CmUWIGgobIE",
      "execution_count": null,
      "outputs": []
    },
    {
      "cell_type": "code",
      "execution_count": null,
      "id": "80a6cde8",
      "metadata": {
        "execution": {
          "iopub.execute_input": "2023-05-10T03:26:48.920113Z",
          "iopub.status.busy": "2023-05-10T03:26:48.919827Z",
          "iopub.status.idle": "2023-05-10T03:26:48.923922Z",
          "shell.execute_reply": "2023-05-10T03:26:48.922952Z"
        },
        "papermill": {
          "duration": 0.01496,
          "end_time": "2023-05-10T03:26:48.926164",
          "exception": false,
          "start_time": "2023-05-10T03:26:48.911204",
          "status": "completed"
        },
        "tags": [],
        "id": "80a6cde8"
      },
      "outputs": [],
      "source": [
        "# plot\n",
        "tf.keras.utils.plot_model(model, to_file='casnet_model.png', show_shapes=True, expand_nested=True, show_layer_activations=True)"
      ]
    }
  ],
  "metadata": {
    "kernelspec": {
      "display_name": "Python 3",
      "language": "python",
      "name": "python3"
    },
    "language_info": {
      "codemirror_mode": {
        "name": "ipython",
        "version": 3
      },
      "file_extension": ".py",
      "mimetype": "text/x-python",
      "name": "python",
      "nbconvert_exporter": "python",
      "pygments_lexer": "ipython3",
      "version": "3.10.10"
    },
    "papermill": {
      "default_parameters": {},
      "duration": 5756.222742,
      "end_time": "2023-05-10T05:02:10.376986",
      "environment_variables": {},
      "exception": null,
      "input_path": "__notebook__.ipynb",
      "output_path": "__notebook__.ipynb",
      "parameters": {},
      "start_time": "2023-05-10T03:26:14.154244",
      "version": "2.4.0"
    },
    "colab": {
      "provenance": [],
      "gpuType": "T4"
    },
    "gpuClass": "standard",
    "accelerator": "GPU"
  },
  "nbformat": 4,
  "nbformat_minor": 5
}
